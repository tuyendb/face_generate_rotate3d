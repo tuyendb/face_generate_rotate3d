{
 "cells": [
  {
   "cell_type": "code",
   "execution_count": 6,
   "metadata": {},
   "outputs": [
    {
     "name": "stdout",
     "output_type": "stream",
     "text": [
      "[-50, -40, -30, -20, -10, 0, 10, 20, 30, 40, 50]\n"
     ]
    }
   ],
   "source": [
    "import numpy as np\n",
    "\n",
    "a = np.arange(-50, 51, 10)\n",
    "print(list(a))"
   ]
  },
  {
   "cell_type": "code",
   "execution_count": null,
   "metadata": {},
   "outputs": [],
   "source": []
  },
  {
   "cell_type": "code",
   "execution_count": 16,
   "metadata": {},
   "outputs": [],
   "source": [
    "\n",
    "\n",
    "\n",
    "from urllib.request import urlopen\n",
    "from PIL import Image\n",
    "import matplotlib.pyplot as plt\n",
    "import io \n",
    "import numpy as np\n",
    "import cv2\n",
    "\n",
    "\n",
    "image_url = urlopen(\"https://media.geeksforgeeks.org/wp-content/uploads/20210318103632/gfg-300x300.png\")\n",
    "image_bytes = io.BytesIO(image_url.read())\n",
    "image = Image.open(image_bytes)\n",
    "array_img = np.array(image)\n",
    "\n",
    "cv2.imwrite('test.jpg', array_img)\n",
    "a = cv2.imread('test.jpg')"
   ]
  },
  {
   "cell_type": "code",
   "execution_count": 21,
   "metadata": {},
   "outputs": [
    {
     "name": "stdout",
     "output_type": "stream",
     "text": [
      "<__main__.A object at 0x7fe40235c610>\n",
      "1\n",
      "2\n",
      "3\n",
      "8\n",
      "8\n"
     ]
    }
   ],
   "source": [
    "class A:\n",
    "    def __init__(self):\n",
    "        self.a = 5\n",
    "        self._plus = None\n",
    "\n",
    "    @property\n",
    "    def plus(self):\n",
    "        if self._plus is None:\n",
    "            print('1')\n",
    "            print('2')\n",
    "            print('3')\n",
    "            self._plus = self.a + 3\n",
    "        return self._plus\n",
    "\n",
    "class B:\n",
    "    def __init__(self):\n",
    "        self.a = A()\n",
    "\n",
    "    @property\n",
    "    def pluss(self):\n",
    "        return self.a.plus\n",
    "\n",
    "b = B()\n",
    "print(b.a)\n",
    "print(b.pluss)\n",
    "print(b.pluss)"
   ]
  },
  {
   "cell_type": "code",
   "execution_count": 4,
   "metadata": {},
   "outputs": [
    {
     "name": "stdout",
     "output_type": "stream",
     "text": [
      "1\n",
      "2\n"
     ]
    }
   ],
   "source": [
    "class Singleton(type):\n",
    "    _instances = {}\n",
    "\n",
    "    def __call__(cls, *args, **kwargs):\n",
    "        if cls not in cls._instances:\n",
    "            cls._instances[cls] = super(Singleton, cls).__call__(*args, **kwargs)\n",
    "        return cls._instances[cls]\n",
    "\n",
    "\n",
    "class A:\n",
    "    def __init__(self, b):\n",
    "        self.a = b\n",
    "\n",
    "    def __str__(self):\n",
    "        return str(self.a)\n",
    "\n",
    "a = A(1)\n",
    "print(a.a)\n",
    "l = A(2)\n",
    "print(l.a)"
   ]
  },
  {
   "cell_type": "code",
   "execution_count": 13,
   "metadata": {},
   "outputs": [
    {
     "data": {
      "text/plain": [
       "893557338187809750152873228439866318937210304206"
      ]
     },
     "execution_count": 13,
     "metadata": {},
     "output_type": "execute_result"
    }
   ],
   "source": [
    "import hashlib\n",
    "url = \"https://media.geeksforgeeks.org/wp-content/uploads/20210318103632/gfg-300x300.png\"\n",
    "int(hashlib.sha1(url.encode(\"utf-8\")).hexdigest(), 16)"
   ]
  },
  {
   "cell_type": "code",
   "execution_count": 6,
   "metadata": {},
   "outputs": [
    {
     "ename": "IndexError",
     "evalue": "pop from empty list",
     "output_type": "error",
     "traceback": [
      "\u001b[0;31m---------------------------------------------------------------------------\u001b[0m",
      "\u001b[0;31mIndexError\u001b[0m                                Traceback (most recent call last)",
      "\u001b[1;32m/AIHCM/AI_Member/tuyennx/face_generate/face_gen/experiments/test.ipynb Cell 6\u001b[0m in \u001b[0;36m<cell line: 17>\u001b[0;34m()\u001b[0m\n\u001b[1;32m     <a href='vscode-notebook-cell://ssh-remote%2B172.29.13.23/AIHCM/AI_Member/tuyennx/face_generate/face_gen/experiments/test.ipynb#W5sdnNjb2RlLXJlbW90ZQ%3D%3D?line=14'>15</a>\u001b[0m a\u001b[39m.\u001b[39ma_list\u001b[39m.\u001b[39mpop()\n\u001b[1;32m     <a href='vscode-notebook-cell://ssh-remote%2B172.29.13.23/AIHCM/AI_Member/tuyennx/face_generate/face_gen/experiments/test.ipynb#W5sdnNjb2RlLXJlbW90ZQ%3D%3D?line=15'>16</a>\u001b[0m a\u001b[39m.\u001b[39ma_list\u001b[39m.\u001b[39mpop()\n\u001b[0;32m---> <a href='vscode-notebook-cell://ssh-remote%2B172.29.13.23/AIHCM/AI_Member/tuyennx/face_generate/face_gen/experiments/test.ipynb#W5sdnNjb2RlLXJlbW90ZQ%3D%3D?line=16'>17</a>\u001b[0m a\u001b[39m.\u001b[39;49ma_list\u001b[39m.\u001b[39;49mpop()\n",
      "\u001b[0;31mIndexError\u001b[0m: pop from empty list"
     ]
    }
   ],
   "source": [
    "class A:\n",
    "    def __init__(self):\n",
    "        self._a_list = None\n",
    "\n",
    "    @property\n",
    "    def a_list(self):\n",
    "        if self._a_list is None:\n",
    "            self._a_list = [1, 2, 3, 4, 5]\n",
    "        return self._a_list\n",
    "\n",
    "a = A()\n",
    "a.a_list.pop()\n",
    "a.a_list.pop()\n",
    "a.a_list.pop()\n",
    "a.a_list.pop()\n",
    "a.a_list.pop()\n",
    "a.a_list.pop()"
   ]
  },
  {
   "cell_type": "code",
   "execution_count": 2,
   "metadata": {},
   "outputs": [
    {
     "name": "stdout",
     "output_type": "stream",
     "text": [
      "None\n"
     ]
    }
   ],
   "source": [
    "from queue import Queue\n",
    "\n",
    "test_Q = Queue(maxsize=1)\n",
    "\n",
    "class A:\n",
    "    def __init__(self, b):\n",
    "        self.b = b\n",
    "        self.c = None\n",
    "\n",
    "test_Q.put(None)\n",
    "a = test_Q.get()\n",
    "print(a)\n",
    "# after_a: A = test_Q.get()\n",
    "# after_a.c = after_a.b*2\n",
    "\n",
    "# print(c[0].c)"
   ]
  },
  {
   "cell_type": "markdown",
   "metadata": {},
   "source": []
  },
  {
   "cell_type": "code",
   "execution_count": 5,
   "metadata": {},
   "outputs": [
    {
     "name": "stdout",
     "output_type": "stream",
     "text": [
      "c4a8de19bbfe2af2d98ce24866d0ce2e\n"
     ]
    }
   ],
   "source": [
    "import cv2, base64\n",
    "import numpy as np\n",
    "import hashlib\n",
    "\n",
    "BASE64_IMAGE = \"base64_image\"\n",
    "NUMPY_IMAGE = \"numpy_image\"\n",
    "\n",
    "def convert_bw_b64_np(input_type: str, input_value):\n",
    "    image = None\n",
    "    if input_type == BASE64_IMAGE:\n",
    "        im_bytes = base64.b64decode(input_value)\n",
    "        im_arr = np.frombuffer(im_bytes, dtype=np.uint8)  # im_arr is one-dim Numpy array\n",
    "        image = cv2.imdecode(im_arr, flags=cv2.IMREAD_COLOR)\n",
    "    elif input_type == NUMPY_IMAGE:\n",
    "        encoded_img = cv2.imencode('.jpg', input_value)[1]\n",
    "        image = base64.b64encode(encoded_img.tobytes()).decode(\"utf-8\")\n",
    "    return image\n",
    "\n",
    "img = cv2.imread('../male.jpg')\n",
    "_, im_buf_arr = cv2.imencode(\".jpg\", img)\n",
    "byte_im = im_buf_arr.tobytes()\n",
    "# b64 = convert_bw_b64_np(input_type=NUMPY_IMAGE, input_value=img)\n",
    "file_name = hashlib.md5(byte_im).hexdigest()\n",
    "print(file_name)"
   ]
  },
  {
   "cell_type": "code",
   "execution_count": 3,
   "metadata": {},
   "outputs": [
    {
     "data": {
      "text/plain": [
       "True"
      ]
     },
     "execution_count": 3,
     "metadata": {},
     "output_type": "execute_result"
    }
   ],
   "source": [
    "bool([[], []])"
   ]
  },
  {
   "cell_type": "code",
   "execution_count": 1,
   "metadata": {},
   "outputs": [
    {
     "data": {
      "text/plain": [
       "'https://tmt-img.dev.tmtco.org/_d1LlA_G8UA7DNQXE-qFajE7v4KPuPxTdaJs28NW1rM/rs::::1/g:no/q:100/plain/tpos/team-ai/face_gen_860c52102477d0ae08036984d51c8f80.jpg'"
      ]
     },
     "execution_count": 1,
     "metadata": {},
     "output_type": "execute_result"
    }
   ],
   "source": [
    "import cv2\n",
    "import hashlib, requests\n",
    "\n",
    "\n",
    "URL_IMAGE_PROXY = \"urlImageProxy\"\n",
    "def upload_image(img):\n",
    "    # _, im_buf_arr = cv2.imencode(\".jpg\", img)\n",
    "    byte_im = img.tobytes()\n",
    "    headers = {\n",
    "        \"accept\": \"text/plain\",\n",
    "        \"App-Id\": \"tpos.vn\",\n",
    "        \"App-Secret\": \"cjgMuAM3f755NqnVs4WE9CvkLyliKfX8\",\n",
    "        \"App-Folder\": \"tpos\"\n",
    "    }\n",
    "    file_name = hashlib.md5(byte_im).hexdigest()\n",
    "    files = {\n",
    "        \"Files\": (f\"face_gen_{file_name}.jpg\",\n",
    "                    byte_im, \n",
    "                    \"image/jpeg\"),\n",
    "        \"FolderPath\": (None, \"team-ai\"),\n",
    "        \"Overwrite\": (None, \"true\"),\n",
    "        \"Tenant\": (None, \"\"),\n",
    "    }\n",
    "    result = requests.post(\"https://files.tmtco.dev/api/v2/Media/upload-files\", headers=headers, files=files).json()[0]\n",
    "    return result[URL_IMAGE_PROXY] if URL_IMAGE_PROXY in result else None\n",
    "\n",
    "img = cv2.imread(\"../male.jpg\")\n",
    "url = upload_image(img)\n",
    "url"
   ]
  },
  {
   "cell_type": "code",
   "execution_count": null,
   "metadata": {},
   "outputs": [],
   "source": []
  }
 ],
 "metadata": {
  "kernelspec": {
   "display_name": "Python 3.8.13 ('tuyen_test')",
   "language": "python",
   "name": "python3"
  },
  "language_info": {
   "codemirror_mode": {
    "name": "ipython",
    "version": 3
   },
   "file_extension": ".py",
   "mimetype": "text/x-python",
   "name": "python",
   "nbconvert_exporter": "python",
   "pygments_lexer": "ipython3",
   "version": "3.8.13"
  },
  "orig_nbformat": 4,
  "vscode": {
   "interpreter": {
    "hash": "4ace9acb06e001413d843b6f5f27d37bc139ebac59c665bf323cc7401741744f"
   }
  }
 },
 "nbformat": 4,
 "nbformat_minor": 2
}
